{
    "cells": [
        {
            "cell_type": "markdown",
            "metadata": {
                "collapsed": true
            },
            "source": "# Toronto-Vancouver Neighbourhood Match Maker\n\n## Greg Clarke\n\n### The Problem\n\n<p>Thousands of people move from Toronto to Vancouver and vice versa every year for various reasons, including employment.  The problem is many people don't know where to look to find a new home with the same (or more) kind of venues that make them feel like home, making the move that much more difficult.  I decided to make a comarison of Toronto and Vancouver neighbourhoods and/or boroughs for those who are brave enough to uproot themselves from their current surroundings and form new roots in the opposite city.  Moving can be hard, and if you are used to having certain ammenties near your home or you've figured out that you'd like to maximize your favourite venue types in your new location, and I intend to help you make a deciison about where to look first. In my case, I will try to find something in Vancouver that is comparable to Rosedale in Toronto, relative to its surroundings.  I intend to give information on the top venues found near each major area within each mega city in hopes of giving you enough data to make an informed decision or at least save some time by striking off neighbourhoods that are not appealing to your lifestyle while you prepare for this life-altering decsion.</p>\n\n### The Solution\n\n#### Data Sources\n<li>Geonames.org</li>\n<ul>\n<li>For consistent data we will collect both Vancouver and Toronto neighbourhood and geographical information from this source.  We will scrape search results, bring them into Python, manipulating the results with the Pandas libaries and basic Python functions to set up this information for our tools and libraries below.</li>\n</ul>\n\n#### Tools and Libraries\n<li>FourSquare</li>\n<ul><li>FourSquare is a service that empowers data scientists and the general public to pull information about what can be found within the vicinity of any given geographical location. This powerful tool will give us the foundation for our insights as long as we can find the right data to feed it and the right libraries to harness its results into a digestible format.</li></ul>\n\n<li>Python Libraries</li>\n<ul><li>Various libraries will be used including Pandas to display neighbourhood venue information, geopy and certainly Folium so that we can plot our findings on a map.</li></ul>\n\n### Expected Results\n\nI intend to generate enough information to allow me to figure out where I should start loooking in Vancouver to match the life style that I have in Rosedale, but more importantly I expect that the\n\n\n<sub>Disclaimer: My own personal stake in this is completely fictional.</sub>\n \n\n"
        }
    ],
    "metadata": {
        "kernelspec": {
            "display_name": "Python 3.6",
            "language": "python",
            "name": "python3"
        },
        "language_info": {
            "codemirror_mode": {
                "name": "ipython",
                "version": 3
            },
            "file_extension": ".py",
            "mimetype": "text/x-python",
            "name": "python",
            "nbconvert_exporter": "python",
            "pygments_lexer": "ipython3",
            "version": "3.6.9"
        }
    },
    "nbformat": 4,
    "nbformat_minor": 1
}